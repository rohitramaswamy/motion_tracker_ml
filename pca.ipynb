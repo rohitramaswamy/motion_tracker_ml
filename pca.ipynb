{
  "cells": [
    {
      "cell_type": "code",
      "execution_count": null,
      "metadata": {
        "id": "bjreNN-Ihdhe"
      },
      "outputs": [],
      "source": [
        "import pandas as pd\n",
        "import matplotlib.pyplot as plt\n",
        "import numpy as np\n",
        "import sklearn\n",
        "from sklearn.preprocessing import LabelEncoder, OneHotEncoder\n",
        "\n",
        "import glob"
      ]
    },
    {
      "cell_type": "code",
      "source": [
        "from google.colab import drive\n",
        "drive.mount('/content/drive')"
      ],
      "metadata": {
        "colab": {
          "base_uri": "https://localhost:8080/"
        },
        "id": "CROHaWmUisAs",
        "outputId": "b398c2e2-feb0-4a72-dc10-9711d10a53eb"
      },
      "execution_count": null,
      "outputs": [
        {
          "output_type": "stream",
          "name": "stdout",
          "text": [
            "Drive already mounted at /content/drive; to attempt to forcibly remount, call drive.mount(\"/content/drive\", force_remount=True).\n"
          ]
        }
      ]
    },
    {
      "cell_type": "code",
      "execution_count": null,
      "metadata": {
        "colab": {
          "base_uri": "https://localhost:8080/"
        },
        "id": "adWKMddzhdhf",
        "outputId": "f23016ea-860a-44f6-d7ed-d230fca2471c"
      },
      "outputs": [
        {
          "output_type": "stream",
          "name": "stdout",
          "text": [
            "hi\n",
            "hi\n",
            "hi\n"
          ]
        }
      ],
      "source": [
        "\n",
        "csv_files =  glob.glob('/content/drive/MyDrive/data/*.csv')\n",
        "chunk_number = 3\n",
        "for file_name in csv_files:\n",
        "    print(\"hi\")\n"
      ]
    },
    {
      "cell_type": "code",
      "execution_count": null,
      "metadata": {
        "id": "Mx0i8rU4hdhg"
      },
      "outputs": [],
      "source": [
        "chunks = []\n",
        "labels = []\n",
        "for file_name in csv_files:\n",
        "    #print(\"hi\")\n",
        "    blank_line_marker_1 = 0\n",
        "    blank_line_marker_2 = 0\n",
        "\n",
        "\n",
        "    line_num = 0\n",
        "    blank_line_freq = 0\n",
        "    data = pd.read_csv(file_name,header=1, skip_blank_lines=False)\n",
        "    with open(file_name, 'r') as file:\n",
        "        for line in file:\n",
        "\n",
        "            row = pd.Series(line.strip().split(','))\n",
        "            if row.equals(pd.Series([\"\"])):\n",
        "\n",
        "                blank_line_freq = blank_line_freq +1\n",
        "                blank_line_marker_1 = blank_line_marker_2\n",
        "                blank_line_marker_2 = line_num\n",
        "\n",
        "                if blank_line_marker_1 != blank_line_marker_2:\n",
        "\n",
        "\n",
        "                    chunk = data.iloc[blank_line_marker_1:blank_line_marker_2-2].reset_index(drop=True)\n",
        "                    chunks.append(chunk)\n",
        "                    labels.append(file_name[35].capitalize())\n",
        "\n",
        "\n",
        "            line_num = line_num +1\n",
        "\n",
        "\n",
        "\n",
        "\n",
        "        number_of_chunks = blank_line_freq - 1"
      ]
    },
    {
      "cell_type": "code",
      "execution_count": null,
      "metadata": {
        "id": "E-5Fi8TMhdhh"
      },
      "outputs": [],
      "source": [
        "from sklearn.preprocessing import MinMaxScaler\n",
        "from sklearn.preprocessing import StandardScaler\n",
        "from sklearn.decomposition import PCA\n",
        "\n"
      ]
    },
    {
      "cell_type": "code",
      "execution_count": null,
      "metadata": {
        "colab": {
          "base_uri": "https://localhost:8080/"
        },
        "id": "39rTzFdOhdhh",
        "outputId": "5ef64dbf-319e-41fb-d074-af2ac298a5c2"
      },
      "outputs": [
        {
          "output_type": "stream",
          "name": "stdout",
          "text": [
            "                     gyro-x                 gyro-y                 gyro-z  \\\n",
            "0       0.08598201721906662    0.11492472141981125    0.09891433268785477   \n",
            "1      -0.03585360571742058     0.0826200470328331    0.08907102048397064   \n",
            "2      -0.12421302497386932    0.12353072315454483    0.12011761963367462   \n",
            "3       -0.1566745638847351    0.18096604943275452    0.16810192167758942   \n",
            "4      -0.16065146028995514    0.21922023594379425    0.21808306872844696   \n",
            "..                      ...                    ...                    ...   \n",
            "251     0.43932968378067017    0.21264728903770447    0.15110109746456146   \n",
            "252     0.48554301261901855     0.2797591984272003    0.16540999710559845   \n",
            "253      0.5421061515808105     0.3562478721141815    0.15261776745319366   \n",
            "254        0.65826016664505    0.39737239480018616    0.12028886377811432   \n",
            "255      0.7493720054626465    0.34238743782043457    0.07960081845521927   \n",
            "\n",
            "                   accel-x                accel-y                accel-z  \n",
            "0      -0.2245025634765625    -0.7702178955078125    -0.2867279052734375  \n",
            "1                -0.234375     -0.792510986328125    -0.2826080322265625  \n",
            "2       -0.222015380859375       -0.7972412109375    -0.2878875732421875  \n",
            "3      -0.2146148681640625    -0.8118438720703125    -0.2931976318359375  \n",
            "4      -0.2078094482421875     -0.817291259765625    -0.2983245849609375  \n",
            "..                     ...                    ...                    ...  \n",
            "251      -0.66766357421875      -0.52191162109375    -0.4884185791015625  \n",
            "252    -0.6800384521484375    -0.5196990966796875    -0.4933624267578125  \n",
            "253      -0.68316650390625      -0.52838134765625     -0.491729736328125  \n",
            "254    -0.6879119873046875        -0.536865234375    -0.5107574462890625  \n",
            "255    -0.6942291259765625      -0.53790283203125    -0.5143890380859375  \n",
            "\n",
            "[256 rows x 6 columns]\n",
            "A\n"
          ]
        }
      ],
      "source": [
        "print(chunks[0])\n",
        "print(labels[10])"
      ]
    },
    {
      "cell_type": "code",
      "execution_count": null,
      "metadata": {
        "colab": {
          "base_uri": "https://localhost:8080/"
        },
        "id": "RWAACrQ8hdhi",
        "outputId": "017893e7-67b3-4292-a187-a3661aa5c3f6"
      },
      "outputs": [
        {
          "output_type": "stream",
          "name": "stdout",
          "text": [
            "(256, 2)\n",
            "<class 'list'>\n",
            "60\n",
            "426 2\n"
          ]
        },
        {
          "output_type": "execute_result",
          "data": {
            "text/plain": [
              "(60, 426, 2)"
            ]
          },
          "metadata": {},
          "execution_count": 77
        }
      ],
      "source": [
        "\n",
        "features = []\n",
        "for chunk in chunks:\n",
        "\n",
        "    scaler=StandardScaler()\n",
        "    scaler.fit(chunk)\n",
        "    scaled_data=scaler.transform(chunk)\n",
        "    pca=PCA(n_components=2)\n",
        "    pca.fit(scaled_data)\n",
        "    x_pca=pca.transform(scaled_data)\n",
        "\n",
        "\n",
        "\n",
        "\n",
        "\n",
        "    features.append(x_pca)\n",
        "\n",
        "print(features[0].shape)\n",
        "print(type(features))\n",
        "print(len(features))\n",
        "\n",
        "#array = features[0].to_numpy()\n",
        "\n",
        "\n",
        "max_rows = max(df.shape[0] for df in features)\n",
        "max_cols = max(df.shape[1] for df in features)\n",
        "\n",
        "print(max_rows, max_cols)\n",
        "resized_array_list = []\n",
        "for array in features:\n",
        "    resized_array = np.zeros((max_rows, max_cols))  # Create a new array of zeros with the target size\n",
        "    resized_array[:array.shape[0], :array.shape[1]] = array  # Copy the original array into the new array\n",
        "    resized_array_list.append(resized_array)\n",
        "\n",
        "\n",
        "features = np.array(resized_array_list)\n",
        "\n",
        "np.shape(features)\n"
      ]
    },
    {
      "cell_type": "code",
      "source": [
        "data_num = 37\n",
        "plt.figure(figsize=(8,6))\n",
        "plt.scatter(features[data_num][:,0],features[data_num][:,1])\n",
        "plt.xlabel('First principle component')\n",
        "plt.ylabel('Second principle component')\n",
        "plt.title(labels[data_num])\n"
      ],
      "metadata": {
        "colab": {
          "base_uri": "https://localhost:8080/",
          "height": 582
        },
        "id": "dCDin221iUb1",
        "outputId": "de91fd3e-48a4-40ba-80e7-bfa3bcab3d74"
      },
      "execution_count": null,
      "outputs": [
        {
          "output_type": "execute_result",
          "data": {
            "text/plain": [
              "Text(0.5, 1.0, 'B')"
            ]
          },
          "metadata": {},
          "execution_count": 70
        },
        {
          "output_type": "display_data",
          "data": {
            "text/plain": [
              "<Figure size 800x600 with 1 Axes>"
            ],
            "image/png": "[encoded data removed]"
          },
          "metadata": {}
        }
      ]
    },
    {
      "cell_type": "code",
      "source": [],
      "metadata": {
        "colab": {
          "base_uri": "https://localhost:8080/",
          "height": 258
        },
        "id": "0yo_9JAn3ZVT",
        "outputId": "c90d4b6c-fe7d-4af3-8590-806bf871b81c"
      },
      "execution_count": null,
      "outputs": [
        {
          "output_type": "stream",
          "name": "stdout",
          "text": [
            "<class 'numpy.ndarray'>\n"
          ]
        },
        {
          "output_type": "error",
          "ename": "AttributeError",
          "evalue": "ignored",
          "traceback": [
            "\u001b[0;31m---------------------------------------------------------------------------\u001b[0m",
            "\u001b[0;31mAttributeError\u001b[0m                            Traceback (most recent call last)",
            "\u001b[0;32m<ipython-input-71-3168305251c1>\u001b[0m in \u001b[0;36m<cell line: 6>\u001b[0;34m()\u001b[0m\n\u001b[1;32m      6\u001b[0m \u001b[0;32mfor\u001b[0m \u001b[0mdf\u001b[0m \u001b[0;32min\u001b[0m \u001b[0mfeatures\u001b[0m\u001b[0;34m:\u001b[0m\u001b[0;34m\u001b[0m\u001b[0;34m\u001b[0m\u001b[0m\n\u001b[1;32m      7\u001b[0m     \u001b[0mpadded_df\u001b[0m \u001b[0;34m=\u001b[0m \u001b[0mdf\u001b[0m\u001b[0;34m.\u001b[0m\u001b[0mcopy\u001b[0m\u001b[0;34m(\u001b[0m\u001b[0;34m)\u001b[0m\u001b[0;34m\u001b[0m\u001b[0;34m\u001b[0m\u001b[0m\n\u001b[0;32m----> 8\u001b[0;31m     \u001b[0mpadded_df\u001b[0m \u001b[0;34m=\u001b[0m \u001b[0mpadded_df\u001b[0m\u001b[0;34m.\u001b[0m\u001b[0mreindex\u001b[0m\u001b[0;34m(\u001b[0m\u001b[0mindex\u001b[0m\u001b[0;34m=\u001b[0m\u001b[0mrange\u001b[0m\u001b[0;34m(\u001b[0m\u001b[0mmax_rows\u001b[0m\u001b[0;34m)\u001b[0m\u001b[0;34m,\u001b[0m \u001b[0mcolumns\u001b[0m\u001b[0;34m=\u001b[0m\u001b[0mrange\u001b[0m\u001b[0;34m(\u001b[0m\u001b[0mmax_cols\u001b[0m\u001b[0;34m)\u001b[0m\u001b[0;34m,\u001b[0m \u001b[0mfill_value\u001b[0m\u001b[0;34m=\u001b[0m\u001b[0;36m0\u001b[0m\u001b[0;34m)\u001b[0m\u001b[0;34m\u001b[0m\u001b[0;34m\u001b[0m\u001b[0m\n\u001b[0m\u001b[1;32m      9\u001b[0m     \u001b[0mpadded_features\u001b[0m\u001b[0;34m.\u001b[0m\u001b[0mappend\u001b[0m\u001b[0;34m(\u001b[0m\u001b[0mpadded_df\u001b[0m\u001b[0;34m)\u001b[0m\u001b[0;34m\u001b[0m\u001b[0;34m\u001b[0m\u001b[0m\n\u001b[1;32m     10\u001b[0m \u001b[0;34m\u001b[0m\u001b[0m\n",
            "\u001b[0;31mAttributeError\u001b[0m: 'numpy.ndarray' object has no attribute 'reindex'"
          ]
        }
      ]
    },
    {
      "cell_type": "markdown",
      "metadata": {
        "id": "f-nb6AQ-hdhi"
      },
      "source": []
    },
    {
      "cell_type": "code",
      "source": [
        "import numpy as np\n",
        "from tensorflow import keras\n",
        "from sklearn.model_selection import train_test_split\n",
        "from sklearn.preprocessing import LabelEncoder, OneHotEncoder\n",
        "\n",
        "# Generate random labels (3 classes)\n",
        "num_labels = 3\n",
        "input_shape = (426, 2)\n",
        "\n",
        "# Split the data into training and testing sets\n",
        "label_encoder = LabelEncoder()\n",
        "numeric_labels = label_encoder.fit_transform(labels)\n",
        "\n",
        "# Apply one-hot encoding\n",
        "onehot_encoder = OneHotEncoder(sparse=False)\n",
        "onehot_labels = onehot_encoder.fit_transform(numeric_labels.reshape(-1, 1))\n",
        "train_data, test_data, train_labels, test_labels = train_test_split(features, onehot_labels, test_size=0.2, random_state=42)\n",
        "\n",
        "# Define the neural network model\n",
        "model = keras.Sequential([\n",
        "    keras.layers.Flatten(input_shape=input_shape),  # Flattens the 2D input into a 1D array\n",
        "    keras.layers.Dense(64, activation='relu'),\n",
        "    keras.layers.Dense(64, activation='relu'),\n",
        "    keras.layers.Dense(num_labels, activation='softmax')\n",
        "])\n",
        "\n",
        "# Compile the model\n",
        "model.compile(optimizer='adam',\n",
        "              loss='categorical_crossentropy',\n",
        "              metrics=['accuracy'])\n",
        "\n",
        "# Train the model\n",
        "model.fit(train_data, train_labels, epochs=10, batch_size=32)\n",
        "\n",
        "# Evaluate the model on the testing set\n",
        "loss, accuracy = model.evaluate(test_data, test_labels)\n",
        "print(f\"Test Loss: {loss}\")\n",
        "print(f\"Test Accuracy: {accuracy}\")\n"
      ],
      "metadata": {
        "colab": {
          "base_uri": "https://localhost:8080/"
        },
        "id": "gXPJ1ij8qOzh",
        "outputId": "deb4b50e-19b0-4d93-bab6-d63c66acfe2c"
      },
      "execution_count": null,
      "outputs": [
        {
          "output_type": "stream",
          "name": "stderr",
          "text": [
            "/usr/local/lib/python3.10/dist-packages/sklearn/preprocessing/_encoders.py:868: FutureWarning: `sparse` was renamed to `sparse_output` in version 1.2 and will be removed in 1.4. `sparse_output` is ignored unless you leave `sparse` to its default value.\n",
            "  warnings.warn(\n"
          ]
        },
        {
          "output_type": "stream",
          "name": "stdout",
          "text": [
            "Epoch 1/10\n",
            "2/2 [==============================] - 2s 8ms/step - loss: 1.2453 - accuracy: 0.3542\n",
            "Epoch 2/10\n",
            "2/2 [==============================] - 0s 8ms/step - loss: 0.5612 - accuracy: 0.8750\n",
            "Epoch 3/10\n",
            "2/2 [==============================] - 0s 7ms/step - loss: 0.3434 - accuracy: 0.9167\n",
            "Epoch 4/10\n",
            "2/2 [==============================] - 0s 7ms/step - loss: 0.2339 - accuracy: 0.9375\n",
            "Epoch 5/10\n",
            "2/2 [==============================] - 0s 7ms/step - loss: 0.1703 - accuracy: 0.9583\n",
            "Epoch 6/10\n",
            "2/2 [==============================] - 0s 7ms/step - loss: 0.1240 - accuracy: 0.9792\n",
            "Epoch 7/10\n",
            "2/2 [==============================] - 0s 9ms/step - loss: 0.0837 - accuracy: 1.0000\n",
            "Epoch 8/10\n",
            "2/2 [==============================] - 0s 7ms/step - loss: 0.0613 - accuracy: 1.0000\n",
            "Epoch 9/10\n",
            "2/2 [==============================] - 0s 8ms/step - loss: 0.0447 - accuracy: 1.0000\n",
            "Epoch 10/10\n",
            "2/2 [==============================] - 0s 8ms/step - loss: 0.0351 - accuracy: 1.0000\n",
            "1/1 [==============================] - 0s 153ms/step - loss: 0.4717 - accuracy: 0.8333\n",
            "Test Loss: 0.47174426913261414\n",
            "Test Accuracy: 0.8333333134651184\n"
          ]
        }
      ]
    }
  ],
  "metadata": {
    "kernelspec": {
      "display_name": "venv",
      "language": "python",
      "name": "python3"
    },
    "language_info": {
      "codemirror_mode": {
        "name": "ipython",
        "version": 3
      },
      "file_extension": ".py",
      "mimetype": "text/x-python",
      "name": "python",
      "nbconvert_exporter": "python",
      "pygments_lexer": "ipython3",
      "version": "3.9.6"
    },
    "orig_nbformat": 4,
    "colab": {
      "provenance": []
    }
  },
  "nbformat": 4,
  "nbformat_minor": 0
}